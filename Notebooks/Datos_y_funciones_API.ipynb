{
 "cells": [
  {
   "cell_type": "markdown",
   "metadata": {},
   "source": [
    "En este notebook se estaran creando los archivos de los cuales la API consumira los datos asi como las funciones, combinando de distintas maneras los archivos ya procesados"
   ]
  },
  {
   "cell_type": "code",
   "execution_count": 18,
   "metadata": {},
   "outputs": [],
   "source": [
    "import pandas as pd\n",
    "import os\n",
    "import ast"
   ]
  },
  {
   "cell_type": "code",
   "execution_count": 19,
   "metadata": {},
   "outputs": [],
   "source": [
    "df_steam_games = pd.read_parquet('C:\\\\Users\\\\Juampi\\Desktop\\\\Henry\\\\PI_MLOps\\\\Datasets\\\\archivos_procesados\\\\steam_games_cleaned.parquet')\n",
    "df_user_reviews = pd.read_parquet('C:\\\\Users\\\\Juampi\\\\Desktop\\\\Henry\\\\PI_MLOps\\\\Datasets\\\\archivos_procesados\\\\user_reviews_cleaned.parquet')\n",
    "df_user_items = pd.read_parquet('C:\\\\Users\\\\Juampi\\\\Desktop\\\\Henry\\\\PI_MLOps\\\\Datasets\\\\archivos_procesados\\\\users_items_cleaned.parquet')"
   ]
  },
  {
   "cell_type": "markdown",
   "metadata": {},
   "source": [
    "# 1. developer"
   ]
  },
  {
   "cell_type": "markdown",
   "metadata": {},
   "source": [
    "def developer( desarrollador : str ): Cantidad de items y porcentaje de contenido Free por año según empresa desarrolladora"
   ]
  },
  {
   "cell_type": "code",
   "execution_count": 20,
   "metadata": {},
   "outputs": [
    {
     "data": {
      "text/html": [
       "<div>\n",
       "<style scoped>\n",
       "    .dataframe tbody tr th:only-of-type {\n",
       "        vertical-align: middle;\n",
       "    }\n",
       "\n",
       "    .dataframe tbody tr th {\n",
       "        vertical-align: top;\n",
       "    }\n",
       "\n",
       "    .dataframe thead th {\n",
       "        text-align: right;\n",
       "    }\n",
       "</style>\n",
       "<table border=\"1\" class=\"dataframe\">\n",
       "  <thead>\n",
       "    <tr style=\"text-align: right;\">\n",
       "      <th></th>\n",
       "      <th>genres</th>\n",
       "      <th>name</th>\n",
       "      <th>price</th>\n",
       "      <th>item_id</th>\n",
       "      <th>developer</th>\n",
       "      <th>release_year</th>\n",
       "    </tr>\n",
       "  </thead>\n",
       "  <tbody>\n",
       "    <tr>\n",
       "      <th>0</th>\n",
       "      <td>[Strategy, Action, Indie, Casual, Simulation]</td>\n",
       "      <td>Lost Summoner Kitty</td>\n",
       "      <td>4.99</td>\n",
       "      <td>761140.0</td>\n",
       "      <td>Kotoshiro</td>\n",
       "      <td>2018</td>\n",
       "    </tr>\n",
       "    <tr>\n",
       "      <th>1</th>\n",
       "      <td>[Free to Play, Strategy, Indie, RPG]</td>\n",
       "      <td>Ironbound</td>\n",
       "      <td>0.00</td>\n",
       "      <td>643980.0</td>\n",
       "      <td>Secret Level SRL</td>\n",
       "      <td>2018</td>\n",
       "    </tr>\n",
       "    <tr>\n",
       "      <th>2</th>\n",
       "      <td>[Free to Play, Simulation, Sports, Casual, Indie]</td>\n",
       "      <td>Real Pool 3D - Poolians</td>\n",
       "      <td>0.00</td>\n",
       "      <td>670290.0</td>\n",
       "      <td>Poolians.com</td>\n",
       "      <td>2017</td>\n",
       "    </tr>\n",
       "    <tr>\n",
       "      <th>3</th>\n",
       "      <td>[Action, Adventure, Casual]</td>\n",
       "      <td>弹炸人2222</td>\n",
       "      <td>0.99</td>\n",
       "      <td>767400.0</td>\n",
       "      <td>彼岸领域</td>\n",
       "      <td>2017</td>\n",
       "    </tr>\n",
       "    <tr>\n",
       "      <th>4</th>\n",
       "      <td>[Action, Indie, Casual, Sports]</td>\n",
       "      <td>Log Challenge</td>\n",
       "      <td>2.99</td>\n",
       "      <td>773570.0</td>\n",
       "      <td>None</td>\n",
       "      <td>&lt;NA&gt;</td>\n",
       "    </tr>\n",
       "    <tr>\n",
       "      <th>...</th>\n",
       "      <td>...</td>\n",
       "      <td>...</td>\n",
       "      <td>...</td>\n",
       "      <td>...</td>\n",
       "      <td>...</td>\n",
       "      <td>...</td>\n",
       "    </tr>\n",
       "    <tr>\n",
       "      <th>32130</th>\n",
       "      <td>[Strategy, Indie, Casual, Simulation]</td>\n",
       "      <td>Colony On Mars</td>\n",
       "      <td>1.99</td>\n",
       "      <td>773640.0</td>\n",
       "      <td>Nikita \"Ghost_RUS\"</td>\n",
       "      <td>2018</td>\n",
       "    </tr>\n",
       "    <tr>\n",
       "      <th>32131</th>\n",
       "      <td>[Strategy, Indie, Casual]</td>\n",
       "      <td>LOGistICAL: South Africa</td>\n",
       "      <td>4.99</td>\n",
       "      <td>733530.0</td>\n",
       "      <td>Sacada</td>\n",
       "      <td>2018</td>\n",
       "    </tr>\n",
       "    <tr>\n",
       "      <th>32132</th>\n",
       "      <td>[Indie, Simulation, Racing]</td>\n",
       "      <td>Russian Roads</td>\n",
       "      <td>1.99</td>\n",
       "      <td>610660.0</td>\n",
       "      <td>Laush Dmitriy Sergeevich</td>\n",
       "      <td>2018</td>\n",
       "    </tr>\n",
       "    <tr>\n",
       "      <th>32133</th>\n",
       "      <td>[Indie, Casual]</td>\n",
       "      <td>EXIT 2 - Directions</td>\n",
       "      <td>4.99</td>\n",
       "      <td>658870.0</td>\n",
       "      <td>xropi,stev3ns</td>\n",
       "      <td>2017</td>\n",
       "    </tr>\n",
       "    <tr>\n",
       "      <th>32134</th>\n",
       "      <td>[Early Access, Adventure, Indie, Action, Simul...</td>\n",
       "      <td>Maze Run VR</td>\n",
       "      <td>4.99</td>\n",
       "      <td>681550.0</td>\n",
       "      <td>None</td>\n",
       "      <td>&lt;NA&gt;</td>\n",
       "    </tr>\n",
       "  </tbody>\n",
       "</table>\n",
       "<p>32133 rows × 6 columns</p>\n",
       "</div>"
      ],
      "text/plain": [
       "                                                  genres  \\\n",
       "0          [Strategy, Action, Indie, Casual, Simulation]   \n",
       "1                   [Free to Play, Strategy, Indie, RPG]   \n",
       "2      [Free to Play, Simulation, Sports, Casual, Indie]   \n",
       "3                            [Action, Adventure, Casual]   \n",
       "4                        [Action, Indie, Casual, Sports]   \n",
       "...                                                  ...   \n",
       "32130              [Strategy, Indie, Casual, Simulation]   \n",
       "32131                          [Strategy, Indie, Casual]   \n",
       "32132                        [Indie, Simulation, Racing]   \n",
       "32133                                    [Indie, Casual]   \n",
       "32134  [Early Access, Adventure, Indie, Action, Simul...   \n",
       "\n",
       "                           name  price   item_id                 developer  \\\n",
       "0           Lost Summoner Kitty   4.99  761140.0                 Kotoshiro   \n",
       "1                     Ironbound   0.00  643980.0          Secret Level SRL   \n",
       "2       Real Pool 3D - Poolians   0.00  670290.0              Poolians.com   \n",
       "3                       弹炸人2222   0.99  767400.0                      彼岸领域   \n",
       "4                 Log Challenge   2.99  773570.0                      None   \n",
       "...                         ...    ...       ...                       ...   \n",
       "32130            Colony On Mars   1.99  773640.0        Nikita \"Ghost_RUS\"   \n",
       "32131  LOGistICAL: South Africa   4.99  733530.0                    Sacada   \n",
       "32132             Russian Roads   1.99  610660.0  Laush Dmitriy Sergeevich   \n",
       "32133       EXIT 2 - Directions   4.99  658870.0             xropi,stev3ns   \n",
       "32134               Maze Run VR   4.99  681550.0                      None   \n",
       "\n",
       "       release_year  \n",
       "0              2018  \n",
       "1              2018  \n",
       "2              2017  \n",
       "3              2017  \n",
       "4              <NA>  \n",
       "...             ...  \n",
       "32130          2018  \n",
       "32131          2018  \n",
       "32132          2018  \n",
       "32133          2017  \n",
       "32134          <NA>  \n",
       "\n",
       "[32133 rows x 6 columns]"
      ]
     },
     "execution_count": 20,
     "metadata": {},
     "output_type": "execute_result"
    }
   ],
   "source": [
    "df_steam_games"
   ]
  },
  {
   "cell_type": "code",
   "execution_count": 21,
   "metadata": {},
   "outputs": [],
   "source": [
    "df_developer = df_steam_games[['developer','release_year','price']]"
   ]
  },
  {
   "cell_type": "code",
   "execution_count": 92,
   "metadata": {},
   "outputs": [
    {
     "name": "stderr",
     "output_type": "stream",
     "text": [
      "C:\\Users\\Juampi\\AppData\\Local\\Temp\\ipykernel_8700\\3612243638.py:1: SettingWithCopyWarning: \n",
      "A value is trying to be set on a copy of a slice from a DataFrame.\n",
      "Try using .loc[row_indexer,col_indexer] = value instead\n",
      "\n",
      "See the caveats in the documentation: https://pandas.pydata.org/pandas-docs/stable/user_guide/indexing.html#returning-a-view-versus-a-copy\n",
      "  df_developer['Año'] = df_developer['release_year']\n"
     ]
    }
   ],
   "source": [
    " # df_developer['Año'] = df_developer['release_year']"
   ]
  },
  {
   "cell_type": "code",
   "execution_count": 93,
   "metadata": {},
   "outputs": [
    {
     "name": "stderr",
     "output_type": "stream",
     "text": [
      "C:\\Users\\Juampi\\AppData\\Local\\Temp\\ipykernel_8700\\3271821412.py:1: SettingWithCopyWarning: \n",
      "A value is trying to be set on a copy of a slice from a DataFrame\n",
      "\n",
      "See the caveats in the documentation: https://pandas.pydata.org/pandas-docs/stable/user_guide/indexing.html#returning-a-view-versus-a-copy\n",
      "  df_developer.drop(columns=['release_year'], inplace=True)\n"
     ]
    }
   ],
   "source": [
    "# df_developer.drop(columns=['release_year'], inplace=True)\n"
   ]
  },
  {
   "cell_type": "code",
   "execution_count": 22,
   "metadata": {},
   "outputs": [
    {
     "name": "stdout",
     "output_type": "stream",
     "text": [
      "<class 'pandas.core.frame.DataFrame'>\n",
      "Index: 32133 entries, 0 to 32134\n",
      "Data columns (total 3 columns):\n",
      " #   Column        Non-Null Count  Dtype  \n",
      "---  ------        --------------  -----  \n",
      " 0   developer     28900 non-null  object \n",
      " 1   release_year  29782 non-null  Int64  \n",
      " 2   price         32133 non-null  float64\n",
      "dtypes: Int64(1), float64(1), object(1)\n",
      "memory usage: 1.0+ MB\n"
     ]
    }
   ],
   "source": [
    "df_developer.info()"
   ]
  },
  {
   "cell_type": "code",
   "execution_count": 23,
   "metadata": {},
   "outputs": [
    {
     "name": "stderr",
     "output_type": "stream",
     "text": [
      "C:\\Users\\Juampi\\AppData\\Local\\Temp\\ipykernel_5696\\2865099105.py:1: SettingWithCopyWarning: \n",
      "A value is trying to be set on a copy of a slice from a DataFrame.\n",
      "Try using .loc[row_indexer,col_indexer] = value instead\n",
      "\n",
      "See the caveats in the documentation: https://pandas.pydata.org/pandas-docs/stable/user_guide/indexing.html#returning-a-view-versus-a-copy\n",
      "  df_developer['developer'] = df_developer['developer'].str.lower()\n"
     ]
    }
   ],
   "source": [
    "df_developer['developer'] = df_developer['developer'].str.lower()"
   ]
  },
  {
   "cell_type": "code",
   "execution_count": 24,
   "metadata": {},
   "outputs": [
    {
     "data": {
      "text/html": [
       "<div>\n",
       "<style scoped>\n",
       "    .dataframe tbody tr th:only-of-type {\n",
       "        vertical-align: middle;\n",
       "    }\n",
       "\n",
       "    .dataframe tbody tr th {\n",
       "        vertical-align: top;\n",
       "    }\n",
       "\n",
       "    .dataframe thead th {\n",
       "        text-align: right;\n",
       "    }\n",
       "</style>\n",
       "<table border=\"1\" class=\"dataframe\">\n",
       "  <thead>\n",
       "    <tr style=\"text-align: right;\">\n",
       "      <th></th>\n",
       "      <th>developer</th>\n",
       "      <th>release_year</th>\n",
       "      <th>price</th>\n",
       "    </tr>\n",
       "  </thead>\n",
       "  <tbody>\n",
       "    <tr>\n",
       "      <th>0</th>\n",
       "      <td>kotoshiro</td>\n",
       "      <td>2018</td>\n",
       "      <td>4.99</td>\n",
       "    </tr>\n",
       "    <tr>\n",
       "      <th>1</th>\n",
       "      <td>secret level srl</td>\n",
       "      <td>2018</td>\n",
       "      <td>0.00</td>\n",
       "    </tr>\n",
       "    <tr>\n",
       "      <th>2</th>\n",
       "      <td>poolians.com</td>\n",
       "      <td>2017</td>\n",
       "      <td>0.00</td>\n",
       "    </tr>\n",
       "    <tr>\n",
       "      <th>3</th>\n",
       "      <td>彼岸领域</td>\n",
       "      <td>2017</td>\n",
       "      <td>0.99</td>\n",
       "    </tr>\n",
       "    <tr>\n",
       "      <th>4</th>\n",
       "      <td>None</td>\n",
       "      <td>&lt;NA&gt;</td>\n",
       "      <td>2.99</td>\n",
       "    </tr>\n",
       "    <tr>\n",
       "      <th>...</th>\n",
       "      <td>...</td>\n",
       "      <td>...</td>\n",
       "      <td>...</td>\n",
       "    </tr>\n",
       "    <tr>\n",
       "      <th>32130</th>\n",
       "      <td>nikita \"ghost_rus\"</td>\n",
       "      <td>2018</td>\n",
       "      <td>1.99</td>\n",
       "    </tr>\n",
       "    <tr>\n",
       "      <th>32131</th>\n",
       "      <td>sacada</td>\n",
       "      <td>2018</td>\n",
       "      <td>4.99</td>\n",
       "    </tr>\n",
       "    <tr>\n",
       "      <th>32132</th>\n",
       "      <td>laush dmitriy sergeevich</td>\n",
       "      <td>2018</td>\n",
       "      <td>1.99</td>\n",
       "    </tr>\n",
       "    <tr>\n",
       "      <th>32133</th>\n",
       "      <td>xropi,stev3ns</td>\n",
       "      <td>2017</td>\n",
       "      <td>4.99</td>\n",
       "    </tr>\n",
       "    <tr>\n",
       "      <th>32134</th>\n",
       "      <td>None</td>\n",
       "      <td>&lt;NA&gt;</td>\n",
       "      <td>4.99</td>\n",
       "    </tr>\n",
       "  </tbody>\n",
       "</table>\n",
       "<p>32133 rows × 3 columns</p>\n",
       "</div>"
      ],
      "text/plain": [
       "                      developer  release_year  price\n",
       "0                     kotoshiro          2018   4.99\n",
       "1              secret level srl          2018   0.00\n",
       "2                  poolians.com          2017   0.00\n",
       "3                          彼岸领域          2017   0.99\n",
       "4                          None          <NA>   2.99\n",
       "...                         ...           ...    ...\n",
       "32130        nikita \"ghost_rus\"          2018   1.99\n",
       "32131                    sacada          2018   4.99\n",
       "32132  laush dmitriy sergeevich          2018   1.99\n",
       "32133             xropi,stev3ns          2017   4.99\n",
       "32134                      None          <NA>   4.99\n",
       "\n",
       "[32133 rows x 3 columns]"
      ]
     },
     "execution_count": 24,
     "metadata": {},
     "output_type": "execute_result"
    }
   ],
   "source": [
    "df_developer"
   ]
  },
  {
   "cell_type": "code",
   "execution_count": 11,
   "metadata": {},
   "outputs": [],
   "source": [
    "\n",
    "def Developer(df, desarrolladora):\n",
    "    \n",
    "    # Filtrar el DataFrame por la desarrolladora específica\n",
    "    df_desarrolladora = df[df['developer'] == desarrolladora.lower()]\n",
    "\n",
    "    if df_desarrolladora.empty:\n",
    "        return print(f\"No se encontró la desarrolladora '{desarrolladora}' en el DataFrame.\")\n",
    "    \n",
    "    # Eliminar filas con valores nulos en la columna 'release_year'\n",
    "    df_desarrolladora = df_desarrolladora.dropna(subset=['release_year'])\n",
    "    \n",
    "    # Contar la cantidad de ítems por año\n",
    "    cantidad_items_por_anio = df_desarrolladora.groupby('release_year').size()\n",
    "    \n",
    "    # Filtrar juegos gratuitos\n",
    "    df_free = df_desarrolladora[df_desarrolladora['price'] == 0]\n",
    "    \n",
    "    # Calcular el porcentaje de contenido gratuito por año\n",
    "    porcentaje_free_por_anio = df_free.groupby('release_year').size() / cantidad_items_por_anio * 100\n",
    "    porcentaje_free_por_anio = porcentaje_free_por_anio.fillna(0).astype(int).astype(str) + \"%\"\n",
    "    \n",
    "    # Unir los resultados en un DataFrame\n",
    "    resultados = pd.DataFrame({\n",
    "        'Cantidad de Items': cantidad_items_por_anio,\n",
    "        'Contenido Free': porcentaje_free_por_anio\n",
    "    })\n",
    "    \n",
    "    return resultados"
   ]
  },
  {
   "cell_type": "code",
   "execution_count": 25,
   "metadata": {},
   "outputs": [
    {
     "name": "stdout",
     "output_type": "stream",
     "text": [
      "              Cantidad de Items Contenido Free\n",
      "release_year                                  \n",
      "1998                          1             0%\n",
      "1999                          1             0%\n",
      "2000                          2             0%\n",
      "2001                          1             0%\n",
      "2003                          1             0%\n",
      "2004                          5             0%\n",
      "2005                          1           100%\n",
      "2006                          2             0%\n",
      "2007                          3            33%\n",
      "2008                          1             0%\n",
      "2009                          1             0%\n",
      "2010                          2            50%\n",
      "2011                          1             0%\n",
      "2012                          2            50%\n",
      "2014                          7           100%\n",
      "2016                          1           100%\n",
      "2017                          2             0%\n"
     ]
    }
   ],
   "source": [
    "print(Developer(df_developer,'valve'))"
   ]
  },
  {
   "cell_type": "code",
   "execution_count": 29,
   "metadata": {},
   "outputs": [
    {
     "name": "stderr",
     "output_type": "stream",
     "text": [
      "C:\\Users\\Juampi\\AppData\\Local\\Temp\\ipykernel_5696\\3006045847.py:1: SettingWithCopyWarning: \n",
      "A value is trying to be set on a copy of a slice from a DataFrame.\n",
      "Try using .loc[row_indexer,col_indexer] = value instead\n",
      "\n",
      "See the caveats in the documentation: https://pandas.pydata.org/pandas-docs/stable/user_guide/indexing.html#returning-a-view-versus-a-copy\n",
      "  df_developer['release_year'] = df_developer['release_year'].astype(object)\n"
     ]
    }
   ],
   "source": [
    "\n",
    "df_developer['release_year'] = df_developer['release_year'].astype(object)\n"
   ]
  },
  {
   "cell_type": "code",
   "execution_count": 30,
   "metadata": {},
   "outputs": [
    {
     "data": {
      "text/plain": [
       "0        4.99\n",
       "1         0.0\n",
       "2         0.0\n",
       "3        0.99\n",
       "4        2.99\n",
       "         ... \n",
       "32130    1.99\n",
       "32131    4.99\n",
       "32132    1.99\n",
       "32133    4.99\n",
       "32134    4.99\n",
       "Name: price, Length: 32133, dtype: object"
      ]
     },
     "execution_count": 30,
     "metadata": {},
     "output_type": "execute_result"
    }
   ],
   "source": [
    "df_developer['price'].astype(object)"
   ]
  },
  {
   "cell_type": "code",
   "execution_count": 31,
   "metadata": {},
   "outputs": [
    {
     "data": {
      "text/html": [
       "<div>\n",
       "<style scoped>\n",
       "    .dataframe tbody tr th:only-of-type {\n",
       "        vertical-align: middle;\n",
       "    }\n",
       "\n",
       "    .dataframe tbody tr th {\n",
       "        vertical-align: top;\n",
       "    }\n",
       "\n",
       "    .dataframe thead th {\n",
       "        text-align: right;\n",
       "    }\n",
       "</style>\n",
       "<table border=\"1\" class=\"dataframe\">\n",
       "  <thead>\n",
       "    <tr style=\"text-align: right;\">\n",
       "      <th></th>\n",
       "      <th>developer</th>\n",
       "      <th>release_year</th>\n",
       "      <th>price</th>\n",
       "    </tr>\n",
       "  </thead>\n",
       "  <tbody>\n",
       "    <tr>\n",
       "      <th>0</th>\n",
       "      <td>kotoshiro</td>\n",
       "      <td>2018</td>\n",
       "      <td>4.99</td>\n",
       "    </tr>\n",
       "    <tr>\n",
       "      <th>1</th>\n",
       "      <td>secret level srl</td>\n",
       "      <td>2018</td>\n",
       "      <td>0.00</td>\n",
       "    </tr>\n",
       "    <tr>\n",
       "      <th>2</th>\n",
       "      <td>poolians.com</td>\n",
       "      <td>2017</td>\n",
       "      <td>0.00</td>\n",
       "    </tr>\n",
       "    <tr>\n",
       "      <th>3</th>\n",
       "      <td>彼岸领域</td>\n",
       "      <td>2017</td>\n",
       "      <td>0.99</td>\n",
       "    </tr>\n",
       "    <tr>\n",
       "      <th>4</th>\n",
       "      <td>No-data</td>\n",
       "      <td>No-data</td>\n",
       "      <td>2.99</td>\n",
       "    </tr>\n",
       "    <tr>\n",
       "      <th>...</th>\n",
       "      <td>...</td>\n",
       "      <td>...</td>\n",
       "      <td>...</td>\n",
       "    </tr>\n",
       "    <tr>\n",
       "      <th>32130</th>\n",
       "      <td>nikita \"ghost_rus\"</td>\n",
       "      <td>2018</td>\n",
       "      <td>1.99</td>\n",
       "    </tr>\n",
       "    <tr>\n",
       "      <th>32131</th>\n",
       "      <td>sacada</td>\n",
       "      <td>2018</td>\n",
       "      <td>4.99</td>\n",
       "    </tr>\n",
       "    <tr>\n",
       "      <th>32132</th>\n",
       "      <td>laush dmitriy sergeevich</td>\n",
       "      <td>2018</td>\n",
       "      <td>1.99</td>\n",
       "    </tr>\n",
       "    <tr>\n",
       "      <th>32133</th>\n",
       "      <td>xropi,stev3ns</td>\n",
       "      <td>2017</td>\n",
       "      <td>4.99</td>\n",
       "    </tr>\n",
       "    <tr>\n",
       "      <th>32134</th>\n",
       "      <td>No-data</td>\n",
       "      <td>No-data</td>\n",
       "      <td>4.99</td>\n",
       "    </tr>\n",
       "  </tbody>\n",
       "</table>\n",
       "<p>32133 rows × 3 columns</p>\n",
       "</div>"
      ],
      "text/plain": [
       "                      developer release_year  price\n",
       "0                     kotoshiro         2018   4.99\n",
       "1              secret level srl         2018   0.00\n",
       "2                  poolians.com         2017   0.00\n",
       "3                          彼岸领域         2017   0.99\n",
       "4                       No-data      No-data   2.99\n",
       "...                         ...          ...    ...\n",
       "32130        nikita \"ghost_rus\"         2018   1.99\n",
       "32131                    sacada         2018   4.99\n",
       "32132  laush dmitriy sergeevich         2018   1.99\n",
       "32133             xropi,stev3ns         2017   4.99\n",
       "32134                   No-data      No-data   4.99\n",
       "\n",
       "[32133 rows x 3 columns]"
      ]
     },
     "execution_count": 31,
     "metadata": {},
     "output_type": "execute_result"
    }
   ],
   "source": [
    "df_developer.fillna('No-data')"
   ]
  },
  {
   "cell_type": "code",
   "execution_count": 32,
   "metadata": {},
   "outputs": [],
   "source": [
    "df_developer.to_parquet('C:\\\\Users\\\\Juampi\\\\Desktop\\\\Henry\\\\PI_MLOps\\\\Datasets\\\\archivos_API\\\\Developer.parquet')"
   ]
  }
 ],
 "metadata": {
  "kernelspec": {
   "display_name": "Python 3",
   "language": "python",
   "name": "python3"
  },
  "language_info": {
   "codemirror_mode": {
    "name": "ipython",
    "version": 3
   },
   "file_extension": ".py",
   "mimetype": "text/x-python",
   "name": "python",
   "nbconvert_exporter": "python",
   "pygments_lexer": "ipython3",
   "version": "3.11.4"
  }
 },
 "nbformat": 4,
 "nbformat_minor": 2
}
