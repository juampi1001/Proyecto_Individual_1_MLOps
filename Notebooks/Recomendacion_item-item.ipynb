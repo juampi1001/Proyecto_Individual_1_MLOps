{
 "cells": [
  {
   "cell_type": "markdown",
   "metadata": {},
   "source": [
    "# Modelo CountVectorizer\n",
    "Crearemos un modelo Vectorizador de Texto (CountVectorizer) que convertira el texto de la columna 'genres' en valores numericos, donde cada palabra unica presente en el texto tendra un numero y contara su frecuencia. Cada juego se representa como un vector donde cada posicion corresponde a la frecuencia de una palabra. Esta representación vectorial es necesaria para calcular la **similitud del coseno** que es clave para determinar qué tan parecidos son los juegos entre sí. Esto se utiliza para generar recomendaciones, ya que los juegos con vectores similares son considerados como recomendaciones potenciales.\n",
    "lo consigue midiendo el coseno del ángulo entre dos vectores. Cuanto más cercano a 1, más similares son los vectores."
   ]
  },
  {
   "cell_type": "markdown",
   "metadata": {},
   "source": [
    "## Requisitos\n",
    "\n",
    "🔎Asegúrate de instalar la biblioteca de scikit-learn\n",
    "\n",
    "Para instalar esta biblioteca debes abrir una terminal o ventana de línea de comandos y ejecutar el siguiente comando:\n",
    "\n",
    "<span style=\"background-color: #f2f2f2; color: black;\">pip install sklearn</span>"
   ]
  },
  {
   "cell_type": "code",
   "execution_count": 14,
   "metadata": {},
   "outputs": [],
   "source": [
    "import pandas as pd\n",
    "import numpy as np\n",
    "from sklearn.feature_extraction.text import CountVectorizer #---> vectorizador de texto\n",
    "from sklearn.metrics.pairwise import cosine_similarity #---> Metrica de similitud del coseno"
   ]
  },
  {
   "cell_type": "code",
   "execution_count": 2,
   "metadata": {},
   "outputs": [],
   "source": [
    "# Cargar el conjunto de datos\n",
    "steam_games = pd.read_parquet('C:\\\\Users\\\\Juampi\\\\Desktop\\\\Henry\\\\PI_MLOps\\\\Datasets\\\\archivos_procesados\\\\steam_games_cleaned.parquet')"
   ]
  },
  {
   "cell_type": "code",
   "execution_count": 3,
   "metadata": {},
   "outputs": [
    {
     "data": {
      "text/html": [
       "<div>\n",
       "<style scoped>\n",
       "    .dataframe tbody tr th:only-of-type {\n",
       "        vertical-align: middle;\n",
       "    }\n",
       "\n",
       "    .dataframe tbody tr th {\n",
       "        vertical-align: top;\n",
       "    }\n",
       "\n",
       "    .dataframe thead th {\n",
       "        text-align: right;\n",
       "    }\n",
       "</style>\n",
       "<table border=\"1\" class=\"dataframe\">\n",
       "  <thead>\n",
       "    <tr style=\"text-align: right;\">\n",
       "      <th></th>\n",
       "      <th>genres</th>\n",
       "      <th>name</th>\n",
       "      <th>price</th>\n",
       "      <th>item_id</th>\n",
       "      <th>developer</th>\n",
       "      <th>release_year</th>\n",
       "    </tr>\n",
       "  </thead>\n",
       "  <tbody>\n",
       "    <tr>\n",
       "      <th>0</th>\n",
       "      <td>[Strategy, Action, Indie, Casual, Simulation]</td>\n",
       "      <td>Lost Summoner Kitty</td>\n",
       "      <td>4.99</td>\n",
       "      <td>761140.0</td>\n",
       "      <td>Kotoshiro</td>\n",
       "      <td>2018</td>\n",
       "    </tr>\n",
       "    <tr>\n",
       "      <th>1</th>\n",
       "      <td>[Free to Play, Strategy, Indie, RPG]</td>\n",
       "      <td>Ironbound</td>\n",
       "      <td>NaN</td>\n",
       "      <td>643980.0</td>\n",
       "      <td>Secret Level SRL</td>\n",
       "      <td>2018</td>\n",
       "    </tr>\n",
       "    <tr>\n",
       "      <th>2</th>\n",
       "      <td>[Free to Play, Simulation, Sports, Casual, Indie]</td>\n",
       "      <td>Real Pool 3D - Poolians</td>\n",
       "      <td>NaN</td>\n",
       "      <td>670290.0</td>\n",
       "      <td>Poolians.com</td>\n",
       "      <td>2017</td>\n",
       "    </tr>\n",
       "    <tr>\n",
       "      <th>3</th>\n",
       "      <td>[Action, Adventure, Casual]</td>\n",
       "      <td>弹炸人2222</td>\n",
       "      <td>0.99</td>\n",
       "      <td>767400.0</td>\n",
       "      <td>彼岸领域</td>\n",
       "      <td>2017</td>\n",
       "    </tr>\n",
       "    <tr>\n",
       "      <th>4</th>\n",
       "      <td>[Action, Indie, Casual, Sports]</td>\n",
       "      <td>Log Challenge</td>\n",
       "      <td>2.99</td>\n",
       "      <td>773570.0</td>\n",
       "      <td>None</td>\n",
       "      <td>&lt;NA&gt;</td>\n",
       "    </tr>\n",
       "    <tr>\n",
       "      <th>...</th>\n",
       "      <td>...</td>\n",
       "      <td>...</td>\n",
       "      <td>...</td>\n",
       "      <td>...</td>\n",
       "      <td>...</td>\n",
       "      <td>...</td>\n",
       "    </tr>\n",
       "    <tr>\n",
       "      <th>32130</th>\n",
       "      <td>[Strategy, Indie, Casual, Simulation]</td>\n",
       "      <td>Colony On Mars</td>\n",
       "      <td>1.99</td>\n",
       "      <td>773640.0</td>\n",
       "      <td>Nikita \"Ghost_RUS\"</td>\n",
       "      <td>2018</td>\n",
       "    </tr>\n",
       "    <tr>\n",
       "      <th>32131</th>\n",
       "      <td>[Strategy, Indie, Casual]</td>\n",
       "      <td>LOGistICAL: South Africa</td>\n",
       "      <td>4.99</td>\n",
       "      <td>733530.0</td>\n",
       "      <td>Sacada</td>\n",
       "      <td>2018</td>\n",
       "    </tr>\n",
       "    <tr>\n",
       "      <th>32132</th>\n",
       "      <td>[Indie, Simulation, Racing]</td>\n",
       "      <td>Russian Roads</td>\n",
       "      <td>1.99</td>\n",
       "      <td>610660.0</td>\n",
       "      <td>Laush Dmitriy Sergeevich</td>\n",
       "      <td>2018</td>\n",
       "    </tr>\n",
       "    <tr>\n",
       "      <th>32133</th>\n",
       "      <td>[Indie, Casual]</td>\n",
       "      <td>EXIT 2 - Directions</td>\n",
       "      <td>4.99</td>\n",
       "      <td>658870.0</td>\n",
       "      <td>xropi,stev3ns</td>\n",
       "      <td>2017</td>\n",
       "    </tr>\n",
       "    <tr>\n",
       "      <th>32134</th>\n",
       "      <td>[Early Access, Adventure, Indie, Action, Simul...</td>\n",
       "      <td>Maze Run VR</td>\n",
       "      <td>4.99</td>\n",
       "      <td>681550.0</td>\n",
       "      <td>None</td>\n",
       "      <td>&lt;NA&gt;</td>\n",
       "    </tr>\n",
       "  </tbody>\n",
       "</table>\n",
       "<p>32133 rows × 6 columns</p>\n",
       "</div>"
      ],
      "text/plain": [
       "                                                  genres  \\\n",
       "0          [Strategy, Action, Indie, Casual, Simulation]   \n",
       "1                   [Free to Play, Strategy, Indie, RPG]   \n",
       "2      [Free to Play, Simulation, Sports, Casual, Indie]   \n",
       "3                            [Action, Adventure, Casual]   \n",
       "4                        [Action, Indie, Casual, Sports]   \n",
       "...                                                  ...   \n",
       "32130              [Strategy, Indie, Casual, Simulation]   \n",
       "32131                          [Strategy, Indie, Casual]   \n",
       "32132                        [Indie, Simulation, Racing]   \n",
       "32133                                    [Indie, Casual]   \n",
       "32134  [Early Access, Adventure, Indie, Action, Simul...   \n",
       "\n",
       "                           name  price   item_id                 developer  \\\n",
       "0           Lost Summoner Kitty   4.99  761140.0                 Kotoshiro   \n",
       "1                     Ironbound    NaN  643980.0          Secret Level SRL   \n",
       "2       Real Pool 3D - Poolians    NaN  670290.0              Poolians.com   \n",
       "3                       弹炸人2222   0.99  767400.0                      彼岸领域   \n",
       "4                 Log Challenge   2.99  773570.0                      None   \n",
       "...                         ...    ...       ...                       ...   \n",
       "32130            Colony On Mars   1.99  773640.0        Nikita \"Ghost_RUS\"   \n",
       "32131  LOGistICAL: South Africa   4.99  733530.0                    Sacada   \n",
       "32132             Russian Roads   1.99  610660.0  Laush Dmitriy Sergeevich   \n",
       "32133       EXIT 2 - Directions   4.99  658870.0             xropi,stev3ns   \n",
       "32134               Maze Run VR   4.99  681550.0                      None   \n",
       "\n",
       "       release_year  \n",
       "0              2018  \n",
       "1              2018  \n",
       "2              2017  \n",
       "3              2017  \n",
       "4              <NA>  \n",
       "...             ...  \n",
       "32130          2018  \n",
       "32131          2018  \n",
       "32132          2018  \n",
       "32133          2017  \n",
       "32134          <NA>  \n",
       "\n",
       "[32133 rows x 6 columns]"
      ]
     },
     "execution_count": 3,
     "metadata": {},
     "output_type": "execute_result"
    }
   ],
   "source": [
    "steam_games"
   ]
  },
  {
   "cell_type": "code",
   "execution_count": 4,
   "metadata": {},
   "outputs": [],
   "source": [
    "# Seleccionar las columnas necesarias\n",
    "modelo_df = steam_games.loc[:, [\"genres\", \"item_id\", \"name\"]]\n",
    "\n",
    "# Convertir 'item_id' a tipo entero\n",
    "modelo_df[\"item_id\"] = modelo_df[\"item_id\"].astype(int)\n"
   ]
  },
  {
   "cell_type": "code",
   "execution_count": 5,
   "metadata": {},
   "outputs": [],
   "source": [
    "# Asignamos la columna 'Genres' a una variable para luego tratarla y limpiar caracteres\n",
    "genres_variable = modelo_df['genres'].copy()\n",
    "\n",
    "# Convertimos a cadena antes de reemplazar los corchetes que queremos sacar\n",
    "genres_variable = genres_variable.apply(lambda x: str(x).replace('[', '').replace(']', ''))"
   ]
  },
  {
   "cell_type": "code",
   "execution_count": 6,
   "metadata": {},
   "outputs": [
    {
     "name": "stdout",
     "output_type": "stream",
     "text": [
      "0              Strategy, Action, Indie, Casual, Simulation\n",
      "1                       Free to Play, Strategy, Indie, RPG\n",
      "2          Free to Play, Simulation, Sports, Casual, Indie\n",
      "3                                Action, Adventure, Casual\n",
      "4                            Action, Indie, Casual, Sports\n",
      "                               ...                        \n",
      "32130                  Strategy, Indie, Casual, Simulation\n",
      "32131                              Strategy, Indie, Casual\n",
      "32132                            Indie, Simulation, Racing\n",
      "32133                                        Indie, Casual\n",
      "32134    Early Access, Adventure, Indie, Action, Simula...\n",
      "Name: genres, Length: 32133, dtype: object\n"
     ]
    }
   ],
   "source": [
    "# Eliminamos las comillas y agregamos comas entre los géneros para separalos\n",
    "genres_variable = genres_variable.apply(lambda x: ', '.join(filter(None, map(str.strip, x.split(\"'\")))) if isinstance(x, str) else x)\n",
    "\n",
    "# Reemplazamos la columna 'Genres' en el DataFrame original con la nueva columna tratada\n",
    "modelo_df['genres'] = genres_variable\n",
    "\n",
    "# Imprimimos para ver como quedo la columna después de reemplazar\n",
    "print(modelo_df['genres'])"
   ]
  },
  {
   "cell_type": "code",
   "execution_count": 7,
   "metadata": {},
   "outputs": [],
   "source": [
    "# Vamos a cambiar unos errores que hay en la columna Genres\n",
    "# como vemos hay unos errores de caracteres, que vamos a solucionar de la siguiente manera\n",
    "modelo_df['genres'] = modelo_df['genres'].replace('Design &amp; Illustration', 'Design & Illustration')\n",
    "modelo_df['genres'] = modelo_df['genres'].replace('Animation &amp; Modeling', 'Animation & Modeling')"
   ]
  },
  {
   "cell_type": "code",
   "execution_count": 8,
   "metadata": {},
   "outputs": [
    {
     "name": "stdout",
     "output_type": "stream",
     "text": [
      "['Strategy, Action, Indie, Casual, Simulation'\n",
      " 'Free to Play, Strategy, Indie, RPG'\n",
      " 'Free to Play, Simulation, Sports, Casual, Indie' ...\n",
      " 'Early Access, Action, Indie, Simulation, RPG'\n",
      " 'Free to Play, Strategy, Action, Massively Multiplayer, RPG'\n",
      " 'Early Access, Adventure, Indie, Action, Simulation']\n"
     ]
    }
   ],
   "source": [
    "print(modelo_df['genres'].unique())"
   ]
  },
  {
   "cell_type": "code",
   "execution_count": 10,
   "metadata": {},
   "outputs": [
    {
     "data": {
      "text/plain": [
       "(32133, 29)"
      ]
     },
     "execution_count": 10,
     "metadata": {},
     "output_type": "execute_result"
    }
   ],
   "source": [
    "# Crear un vectorizador de texto\n",
    "cv = CountVectorizer()\n",
    "cv.fit_transform(modelo_df['genres']).toarray().shape"
   ]
  },
  {
   "cell_type": "code",
   "execution_count": 11,
   "metadata": {},
   "outputs": [],
   "source": [
    "# Se generan los vectores a comparar \n",
    "vectores = cv.fit_transform(modelo_df['genres']).toarray()"
   ]
  },
  {
   "cell_type": "code",
   "execution_count": 12,
   "metadata": {},
   "outputs": [
    {
     "data": {
      "text/plain": [
       "array([[0, 0, 1, ..., 0, 0, 0],\n",
       "       [0, 0, 0, ..., 0, 0, 0],\n",
       "       [0, 0, 0, ..., 0, 0, 0],\n",
       "       ...,\n",
       "       [0, 0, 0, ..., 0, 0, 0],\n",
       "       [0, 0, 0, ..., 0, 0, 0],\n",
       "       [1, 0, 1, ..., 0, 0, 0]], dtype=int64)"
      ]
     },
     "execution_count": 12,
     "metadata": {},
     "output_type": "execute_result"
    }
   ],
   "source": [
    "# Mostramos como quedo Nuestra variable vectores\n",
    "vectores"
   ]
  },
  {
   "cell_type": "code",
   "execution_count": 16,
   "metadata": {},
   "outputs": [
    {
     "name": "stdout",
     "output_type": "stream",
     "text": [
      "Índices con NaN: [[False False False ... False False False]\n",
      " [False False False ... False False False]\n",
      " [False False False ... False False False]\n",
      " ...\n",
      " [False False False ... False False False]\n",
      " [False False False ... False False False]\n",
      " [False False False ... False False False]]\n",
      "Valores con NaN: []\n",
      "Índices con infinitos: [[False False False ... False False False]\n",
      " [False False False ... False False False]\n",
      " [False False False ... False False False]\n",
      " ...\n",
      " [False False False ... False False False]\n",
      " [False False False ... False False False]\n",
      " [False False False ... False False False]]\n",
      "Valores con infinitos: []\n"
     ]
    }
   ],
   "source": [
    "\n",
    "\n",
    "# Verificar si hay NaN\n",
    "nan_indices = np.isnan(vectores)\n",
    "print(\"Índices con NaN:\", nan_indices)\n",
    "print(\"Valores con NaN:\", vectores[nan_indices])\n",
    "\n",
    "# Verificar si hay infinitos\n",
    "inf_indices = np.isinf(vectores)\n",
    "print(\"Índices con infinitos:\", inf_indices)\n",
    "print(\"Valores con infinitos:\", vectores[inf_indices])\n"
   ]
  },
  {
   "cell_type": "code",
   "execution_count": 13,
   "metadata": {},
   "outputs": [
    {
     "name": "stderr",
     "output_type": "stream",
     "text": [
      "c:\\Users\\Juampi\\AppData\\Local\\Programs\\Python\\Python311\\Lib\\site-packages\\sklearn\\utils\\extmath.py:192: RuntimeWarning: invalid value encountered in matmul\n",
      "  ret = a @ b\n"
     ]
    }
   ],
   "source": [
    "# Calcular la similitud del coseno entre vectores\n",
    "similitud = cosine_similarity(vectores)"
   ]
  },
  {
   "cell_type": "code",
   "execution_count": 17,
   "metadata": {},
   "outputs": [
    {
     "data": {
      "text/plain": [
       "array([1.        , 0.36514837, 0.50709255, ..., 0.51639778, 0.63245553,\n",
       "       0.54772256])"
      ]
     },
     "execution_count": 17,
     "metadata": {},
     "output_type": "execute_result"
    }
   ],
   "source": [
    "# Se obtiene el array de similitud\n",
    "similitud[0]"
   ]
  },
  {
   "cell_type": "code",
   "execution_count": 18,
   "metadata": {},
   "outputs": [
    {
     "data": {
      "text/plain": [
       "[(1351, 0.9999999999999999),\n",
       " (3017, 0.9999999999999999),\n",
       " (3356, 0.9999999999999999),\n",
       " (3574, 0.9999999999999999),\n",
       " (4386, 0.9999999999999999)]"
      ]
     },
     "execution_count": 18,
     "metadata": {},
     "output_type": "execute_result"
    }
   ],
   "source": [
    "# Ordenamos la similitud entre más similar a menos similar tomando 5 valores\n",
    "sorted(list(enumerate(similitud[0])), reverse=True, key=lambda x:x[1])[1:6]"
   ]
  },
  {
   "cell_type": "markdown",
   "metadata": {},
   "source": [
    "A continuación, se genera una función (recomendacion) que toma como entrada el ID de un juego y devuelve una lista de los cinco juegos más recomendados basándose en la similitud del coseno entre vectores.\n",
    "\n",
    "La función devuelve la lista de títulos recomendados."
   ]
  },
  {
   "cell_type": "code",
   "execution_count": 22,
   "metadata": {},
   "outputs": [],
   "source": [
    "def recomendacion(juego):\n",
    "    try:\n",
    "        # Se busca el índice del juego en el DataFrame original (df).\n",
    "        # Este índice es utilizado para acceder a la fila correspondiente en la matriz de similitud.\n",
    "        indice_juego = modelo_df[modelo_df[\"item_id\"] == juego].index[0]\n",
    "        \n",
    "        # Cálculo de Similitudes: Se obtienen las distancias de similitud entre el juego de entrada y todos los demás juegos en el conjunto de datos. \n",
    "        distances = similitud[indice_juego]\n",
    "        \n",
    "        # Las distancias se ordenan de manera descendente, y se seleccionan los cinco juegos más similares (excluyendo el juego de entrada)\n",
    "        lista_juegos = sorted(list(enumerate(distances)), reverse=True, key=lambda x: x[1])[1:6]\n",
    "        \n",
    "        # Salida. Devuelve la lista de títulos recomendados.\n",
    "        recommended_titles = [modelo_df.iloc[i[0]]['name'] for i in lista_juegos]\n",
    "        \n",
    "        return recommended_titles\n",
    "    except IndexError:\n",
    "        print(f\"El juego '{juego}' no se encontró en el DataFrame.\")\n",
    "        return []\n"
   ]
  },
  {
   "cell_type": "code",
   "execution_count": 23,
   "metadata": {},
   "outputs": [
    {
     "name": "stdout",
     "output_type": "stream",
     "text": [
      "El juego '658870' no se encontró en el DataFrame.\n",
      "El juego '681550' no se encontró en el DataFrame.\n"
     ]
    }
   ],
   "source": [
    "# Se aplica la función al dataframe para obtener una nueva columna con las recomendaciones ya que es más facil \n",
    "# de cargar y leer para la funcion\n",
    "modelo_df['RecomendacionesTop5'] = modelo_df['item_id'].apply(recomendacion)"
   ]
  },
  {
   "cell_type": "code",
   "execution_count": null,
   "metadata": {},
   "outputs": [],
   "source": [
    "# Eliminar columnas innecesarias para disminuir el tamaño del archivo de salida\n",
    "modelo_df.drop(columns=['name', 'genres'], inplace=True)\n"
   ]
  },
  {
   "cell_type": "code",
   "execution_count": 31,
   "metadata": {},
   "outputs": [
    {
     "data": {
      "text/html": [
       "<div>\n",
       "<style scoped>\n",
       "    .dataframe tbody tr th:only-of-type {\n",
       "        vertical-align: middle;\n",
       "    }\n",
       "\n",
       "    .dataframe tbody tr th {\n",
       "        vertical-align: top;\n",
       "    }\n",
       "\n",
       "    .dataframe thead th {\n",
       "        text-align: right;\n",
       "    }\n",
       "</style>\n",
       "<table border=\"1\" class=\"dataframe\">\n",
       "  <thead>\n",
       "    <tr style=\"text-align: right;\">\n",
       "      <th></th>\n",
       "      <th>item_id</th>\n",
       "      <th>RecomendacionesTop5</th>\n",
       "    </tr>\n",
       "  </thead>\n",
       "  <tbody>\n",
       "    <tr>\n",
       "      <th>0</th>\n",
       "      <td>761140</td>\n",
       "      <td>[Surgeon Simulator, Urja, Pixel Puzzles 2: Ani...</td>\n",
       "    </tr>\n",
       "    <tr>\n",
       "      <th>1</th>\n",
       "      <td>643980</td>\n",
       "      <td>[Shadow Hunter, Card Hunter, Immortal Empire, ...</td>\n",
       "    </tr>\n",
       "    <tr>\n",
       "      <th>2</th>\n",
       "      <td>670290</td>\n",
       "      <td>[Snooker-online multiplayer snooker game!, Mal...</td>\n",
       "    </tr>\n",
       "    <tr>\n",
       "      <th>3</th>\n",
       "      <td>767400</td>\n",
       "      <td>[Atomic Adam: Episode 1, LEGO® Star Wars™ - Th...</td>\n",
       "    </tr>\n",
       "    <tr>\n",
       "      <th>4</th>\n",
       "      <td>773570</td>\n",
       "      <td>[Shufflepuck Cantina Deluxe, Canyon Capers - R...</td>\n",
       "    </tr>\n",
       "    <tr>\n",
       "      <th>...</th>\n",
       "      <td>...</td>\n",
       "      <td>...</td>\n",
       "    </tr>\n",
       "    <tr>\n",
       "      <th>32128</th>\n",
       "      <td>769330</td>\n",
       "      <td>[Fate of the World: Migration, Fate of the Wor...</td>\n",
       "    </tr>\n",
       "    <tr>\n",
       "      <th>32129</th>\n",
       "      <td>745400</td>\n",
       "      <td>[World of Goo, Obulis, Osmos, Fortix, Puzzler ...</td>\n",
       "    </tr>\n",
       "    <tr>\n",
       "      <th>32130</th>\n",
       "      <td>773640</td>\n",
       "      <td>[Try Hard Parking, Car Mechanic Simulator 2015...</td>\n",
       "    </tr>\n",
       "    <tr>\n",
       "      <th>32131</th>\n",
       "      <td>733530</td>\n",
       "      <td>[Zen of Sudoku, Gumboy - Crazy Adventures™, Ni...</td>\n",
       "    </tr>\n",
       "    <tr>\n",
       "      <th>32132</th>\n",
       "      <td>610660</td>\n",
       "      <td>[Rodina, REVERSE SIDE, CodeSpells, Hurtworld, ...</td>\n",
       "    </tr>\n",
       "  </tbody>\n",
       "</table>\n",
       "<p>32131 rows × 2 columns</p>\n",
       "</div>"
      ],
      "text/plain": [
       "       item_id                                RecomendacionesTop5\n",
       "0       761140  [Surgeon Simulator, Urja, Pixel Puzzles 2: Ani...\n",
       "1       643980  [Shadow Hunter, Card Hunter, Immortal Empire, ...\n",
       "2       670290  [Snooker-online multiplayer snooker game!, Mal...\n",
       "3       767400  [Atomic Adam: Episode 1, LEGO® Star Wars™ - Th...\n",
       "4       773570  [Shufflepuck Cantina Deluxe, Canyon Capers - R...\n",
       "...        ...                                                ...\n",
       "32128   769330  [Fate of the World: Migration, Fate of the Wor...\n",
       "32129   745400  [World of Goo, Obulis, Osmos, Fortix, Puzzler ...\n",
       "32130   773640  [Try Hard Parking, Car Mechanic Simulator 2015...\n",
       "32131   733530  [Zen of Sudoku, Gumboy - Crazy Adventures™, Ni...\n",
       "32132   610660  [Rodina, REVERSE SIDE, CodeSpells, Hurtworld, ...\n",
       "\n",
       "[32131 rows x 2 columns]"
      ]
     },
     "execution_count": 31,
     "metadata": {},
     "output_type": "execute_result"
    }
   ],
   "source": [
    "modelo_df"
   ]
  },
  {
   "cell_type": "code",
   "execution_count": 30,
   "metadata": {},
   "outputs": [],
   "source": [
    "#Eliminamos los registros de los juegos que no se encuentran en el df, lso dos ultimos\n",
    "modelo_df = modelo_df.drop(modelo_df[(modelo_df['item_id'] == 658870) | (modelo_df['item_id'] == 681550)].index)"
   ]
  },
  {
   "cell_type": "code",
   "execution_count": 32,
   "metadata": {},
   "outputs": [
    {
     "name": "stdout",
     "output_type": "stream",
     "text": [
      "<class 'pandas.core.frame.DataFrame'>\n",
      "Index: 32131 entries, 0 to 32132\n",
      "Data columns (total 2 columns):\n",
      " #   Column               Non-Null Count  Dtype \n",
      "---  ------               --------------  ----- \n",
      " 0   item_id              32131 non-null  int32 \n",
      " 1   RecomendacionesTop5  32131 non-null  object\n",
      "dtypes: int32(1), object(1)\n",
      "memory usage: 627.6+ KB\n"
     ]
    }
   ],
   "source": [
    "modelo_df.info()"
   ]
  },
  {
   "cell_type": "code",
   "execution_count": 34,
   "metadata": {},
   "outputs": [],
   "source": [
    "# Guardar el DataFrame resultante en un nuevo archivo PARQUET \n",
    "modelo_df.to_parquet('C:\\\\Users\\\\Juampi\\\\Desktop\\\\Henry\\\\PI_MLOps\\\\Datasets\\\\archivos_ML\\\\recomienda_item_item.parquet', index=False)"
   ]
  }
 ],
 "metadata": {
  "kernelspec": {
   "display_name": "Python 3",
   "language": "python",
   "name": "python3"
  },
  "language_info": {
   "codemirror_mode": {
    "name": "ipython",
    "version": 3
   },
   "file_extension": ".py",
   "mimetype": "text/x-python",
   "name": "python",
   "nbconvert_exporter": "python",
   "pygments_lexer": "ipython3",
   "version": "3.11.4"
  }
 },
 "nbformat": 4,
 "nbformat_minor": 2
}
